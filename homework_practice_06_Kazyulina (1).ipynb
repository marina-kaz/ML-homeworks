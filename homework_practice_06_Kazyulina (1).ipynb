{
  "nbformat": 4,
  "nbformat_minor": 0,
  "metadata": {
    "kernelspec": {
      "display_name": "Python 3",
      "language": "python",
      "name": "python3"
    },
    "language_info": {
      "codemirror_mode": {
        "name": "ipython",
        "version": 3
      },
      "file_extension": ".py",
      "mimetype": "text/x-python",
      "name": "python",
      "nbconvert_exporter": "python",
      "pygments_lexer": "ipython3",
      "version": "3.8.5"
    },
    "toc": {
      "base_numbering": 1,
      "nav_menu": {},
      "number_sections": true,
      "sideBar": true,
      "skip_h1_title": true,
      "title_cell": "Table of Contents",
      "title_sidebar": "Contents",
      "toc_cell": false,
      "toc_position": {},
      "toc_section_display": true,
      "toc_window_display": false
    },
    "varInspector": {
      "cols": {
        "lenName": 16,
        "lenType": 16,
        "lenVar": 40
      },
      "kernels_config": {
        "python": {
          "delete_cmd_postfix": "",
          "delete_cmd_prefix": "del ",
          "library": "var_list.py",
          "varRefreshCmd": "print(var_dic_list())"
        },
        "r": {
          "delete_cmd_postfix": ") ",
          "delete_cmd_prefix": "rm(",
          "library": "var_list.r",
          "varRefreshCmd": "cat(var_dic_list()) "
        }
      },
      "types_to_exclude": [
        "module",
        "function",
        "builtin_function_or_method",
        "instance",
        "_Feature"
      ],
      "window_display": false
    },
    "colab": {
      "name": "homework-practice-06-Kazyulina",
      "provenance": []
    }
  },
  "cells": [
    {
      "cell_type": "markdown",
      "metadata": {
        "id": "IGM6BfAmu0ey"
      },
      "source": [
        "# Машинное обучение, ФКН ВШЭ\n",
        "\n",
        "## Практическое задание 6. Разложение ошибки на смещение и разброс\n",
        "\n",
        "### Общая информация\n",
        "\n",
        "Дата выдачи: 24.11.2021\n",
        "\n",
        "Мягкий дедлайн: 23:59MSK 04.12.2021\n",
        "\n",
        "Жесткий дедлайн: 23:59MSK 10.12.2021\n",
        "\n",
        "### Оценивание и штрафы\n",
        "Каждая из задач имеет определенную «стоимость» (указана в скобках около задачи). Максимально допустимая оценка за работу — 10 баллов.\n",
        "\n",
        "Сдавать задание после указанного срока сдачи нельзя. При выставлении неполного балла за задание в связи с наличием ошибок на усмотрение проверяющего предусмотрена возможность исправить работу на указанных в ответном письме условиях.\n",
        "\n",
        "Задание выполняется самостоятельно. «Похожие» решения считаются плагиатом и все задействованные студенты (в том числе те, у кого списали) не могут получить за него больше 0 баллов (подробнее о плагиате см. на странице курса). Если вы нашли решение какого-то из заданий (или его часть) в открытом источнике, необходимо указать ссылку на этот источник в отдельном блоке в конце вашей работы (скорее всего вы будете не единственным, кто это нашел, поэтому чтобы исключить подозрение в плагиате, необходима ссылка на источник).\n",
        "\n",
        "Неэффективная реализация кода может негативно отразиться на оценке.\n",
        "\n",
        "### Формат сдачи\n",
        "Задания сдаются через систему anytask. Посылка должна содержать:\n",
        "* Ноутбук homework-practice-06-Username.ipynb\n",
        "\n",
        "Username — ваша фамилия и имя на латинице именно в таком порядке\n",
        "\n",
        "### О задании\n",
        "\n",
        "В этом задании вам предстоит воспользоваться возможностями бутстрапа для оценки смещения и разброса алгоритмов машинного обучения. Делать мы это будем на данных boston:"
      ]
    },
    {
      "cell_type": "code",
      "metadata": {
        "collapsed": true,
        "id": "S9T8kA0Nu0fA"
      },
      "source": [
        "import numpy as np\n",
        "import pandas as pd\n",
        "from matplotlib import pyplot as plt"
      ],
      "execution_count": 1,
      "outputs": []
    },
    {
      "cell_type": "code",
      "metadata": {
        "collapsed": true,
        "id": "anFL1WXmu0fD"
      },
      "source": [
        "from sklearn.datasets import load_boston"
      ],
      "execution_count": 2,
      "outputs": []
    },
    {
      "cell_type": "code",
      "metadata": {
        "collapsed": true,
        "id": "me8d_qSEu0fE",
        "colab": {
          "base_uri": "https://localhost:8080/"
        },
        "outputId": "22a12fac-7f5b-4968-9bce-78300ff63d6c"
      },
      "source": [
        "boston = load_boston()"
      ],
      "execution_count": 3,
      "outputs": [
        {
          "output_type": "stream",
          "name": "stderr",
          "text": [
            "/usr/local/lib/python3.7/dist-packages/sklearn/utils/deprecation.py:87: FutureWarning: Function load_boston is deprecated; `load_boston` is deprecated in 1.0 and will be removed in 1.2.\n",
            "\n",
            "    The Boston housing prices dataset has an ethical problem. You can refer to\n",
            "    the documentation of this function for further details.\n",
            "\n",
            "    The scikit-learn maintainers therefore strongly discourage the use of this\n",
            "    dataset unless the purpose of the code is to study and educate about\n",
            "    ethical issues in data science and machine learning.\n",
            "\n",
            "    In this special case, you can fetch the dataset from the original\n",
            "    source::\n",
            "\n",
            "        import pandas as pd\n",
            "        import numpy as np\n",
            "\n",
            "\n",
            "        data_url = \"http://lib.stat.cmu.edu/datasets/boston\"\n",
            "        raw_df = pd.read_csv(data_url, sep=\"\\s+\", skiprows=22, header=None)\n",
            "        data = np.hstack([raw_df.values[::2, :], raw_df.values[1::2, :2]])\n",
            "        target = raw_df.values[1::2, 2]\n",
            "\n",
            "    Alternative datasets include the California housing dataset (i.e.\n",
            "    :func:`~sklearn.datasets.fetch_california_housing`) and the Ames housing\n",
            "    dataset. You can load the datasets as follows::\n",
            "\n",
            "        from sklearn.datasets import fetch_california_housing\n",
            "        housing = fetch_california_housing()\n",
            "\n",
            "    for the California housing dataset and::\n",
            "\n",
            "        from sklearn.datasets import fetch_openml\n",
            "        housing = fetch_openml(name=\"house_prices\", as_frame=True)\n",
            "\n",
            "    for the Ames housing dataset.\n",
            "    \n",
            "  warnings.warn(msg, category=FutureWarning)\n"
          ]
        }
      ]
    },
    {
      "cell_type": "code",
      "metadata": {
        "collapsed": true,
        "id": "nIRCZs-bu0fE"
      },
      "source": [
        "X = boston[\"data\"]\n",
        "y = boston[\"target\"]"
      ],
      "execution_count": 4,
      "outputs": []
    },
    {
      "cell_type": "code",
      "metadata": {
        "id": "QA7w_KVTu0fF",
        "colab": {
          "base_uri": "https://localhost:8080/"
        },
        "outputId": "459234ee-e0b4-4194-d343-30e9f4179cc1"
      },
      "source": [
        "X.shape, y.shape"
      ],
      "execution_count": 5,
      "outputs": [
        {
          "output_type": "execute_result",
          "data": {
            "text/plain": [
              "((506, 13), (506,))"
            ]
          },
          "metadata": {},
          "execution_count": 5
        }
      ]
    },
    {
      "cell_type": "markdown",
      "metadata": {
        "id": "H58zaJ1ru0fG"
      },
      "source": [
        "### Вычисление bias и variance с помощью бутстрапа\n",
        "На лекции была выведено следующая формула, показывающая, как можно представить ошибку алгоритма регрессии в виде суммы трех компонент:\n",
        "$$\n",
        "L(\\mu) = \n",
        "    \\mathbb{E}_{x, y}\\bigl[\\mathbb{E}_{X}\\bigl[ (y - \\mu(X)(x))^2 \\bigr]\\bigr] = \n",
        "$$\n",
        "$$\n",
        "    \\underbrace{\\mathbb{E}_{x, y}\\bigl[(y - \\mathbb{E}[y|x] )^2\\bigr]}_{\\text{шум}} + \\underbrace{\\mathbb{E}_{x}\\bigl[(\\mathbb{E}_{X}[\\mu(X)(x)] - \\mathbb{E}[y|x] )^2\\bigr]}_{\\text{смещение}} +\n",
        "    \\underbrace{\\mathbb{E}_{x}\\bigl[\\mathbb{E}_{X}\\bigl[(\\mu(X)(x) - \\mathbb{E}_{X}[\\mu(X)(x)] )^2\\bigr]\\bigr]}_{\\text{разброс}},\n",
        "$$\n",
        "* $\\mu(X)$ — алгоритм, обученный по выборке $X = \\{(x_1, y_1), \\dots (x_\\ell, y_\\ell)\\}$;\n",
        "* $\\mu(X)(x)$ — ответ алгоритма, обученного по выборке $X$, на объекте $x$;\n",
        "* $\\mathbb{E}_{X}$ — мат. ожидание по всем возможным выборкам;\n",
        "* $\\mathbb{E}_{X}[\\mu(X)(x)]$ — \"средний\" ответ алгоритма, обученного по всем возможным выборкам $X$, на объекте $x$.\n",
        "    \n",
        "С помощью этой формулы мы можем анализировать свойства алгоритма обучения модели $\\mu$, если зададим вероятностную модель порождения пар $p(x, y)$.\n",
        "\n",
        "В реальных задачах мы, конечно же, не знаем распределение на парах объект - правильный ответ. Однако у нас есть набор семплов из этого распределения (обучающую выборка), и мы можем использовать его, чтобы оценивать математические ожидания. Для оценки мат. ожиданий по выборкам мы будем пользоваться бутстрэпом - методом генерации \"новых\" выборок из одной с помощью выбора объектов с возвращением. Разберем несколько шагов на пути к оценке смещения и разброса.\n",
        "\n",
        "#### Приближенное вычисление интегралов\n",
        "На занятиях мы разбирали примеры аналитического вычисления смещения и разброса нескольких алгоритмов обучения. Для большинства моделей данных и алгоритмов обучения аналитически рассчитать математические ожидания в формулах не удастся. Однако мат. ожидания можно оценивать приближенно. Чтобы оценить математическое ожидание $\\mathbb{E}_{\\bar z} f(\\bar z)$ функции от многомерной случайной величины $\\bar z = (z_1, \\dots, z_d)$, $\\bar z \\sim p(\\bar z)$, можно сгенерировать выборку из распределения $p(\\bar z)$ и усреднить значение функции на элементах этой выборки:\n",
        "$$\\mathbb{E}_{\\bar z} f(z) = \\int f(\\bar z) p(\\bar z) d \\bar z \\approx \\frac 1 m \\sum_{i=1}^m f(\\bar z_i), \\, \\bar z_i \\sim p(\\bar z), i = 1, \\dots, m.$$\n",
        "\n",
        "Например, оценим $\\mathbb{E}_z z^2,$ $z \\sim \\mathcal{N}(\\mu=5, \\sigma=3)$ (из теории вероятностей мы знаем, что\n",
        "$\\mathbb{E}_z z^2 = \\sigma^2 + \\mu^2 = 34$):"
      ]
    },
    {
      "cell_type": "code",
      "metadata": {
        "id": "5zQx0hqQu0fJ",
        "colab": {
          "base_uri": "https://localhost:8080/"
        },
        "outputId": "0bc597d5-29fd-4560-ff46-d90da5f253ef"
      },
      "source": [
        "z = np.random.normal(loc=5, scale=3, size=1000)\n",
        "(z**2).mean()"
      ],
      "execution_count": 6,
      "outputs": [
        {
          "output_type": "execute_result",
          "data": {
            "text/plain": [
              "33.38524084914798"
            ]
          },
          "metadata": {},
          "execution_count": 6
        }
      ]
    },
    {
      "cell_type": "markdown",
      "metadata": {
        "id": "fscUWyqku0fM"
      },
      "source": [
        "#### Оценивание $\\mathbb{E}_{x, y}$\n",
        "Оценить мат. ожидания по $x$ и по $x, y$, встречающиеся во всех трех компонентах разложения, несложно, потому что у нас есть выборка объектов из распределения данных $p(x, y)$:\n",
        "$$ \\mathbb{E}_{x} f(x) \\approx \\frac 1 N \\sum_{i=1}^N f(x_i), \\quad\n",
        "\\mathbb{E}_{x, y} f(x, y) \\approx \\frac 1 N \\sum_{i=1}^N f(x_i, y_i),$$\n",
        "где $N$ - число объектов в выборке, $\\{(x_i, y_i)\\}_{i=1}^N$ - сама выборка. \n",
        "\n",
        "#### Оценивание $\\mathbb{E}_X$ с помощью бутстрапа\n",
        "Чтобы оценить мат. ожидание по $X$, нам понадобится выборка из выборок:\n",
        "$$\\mathbb{E}_X f(X) \\approx \\frac 1 s \\sum_{j=1}^s f(X_j),$$\n",
        "где $X_j$ - $j$-я выборка. Чтобы их получить, мы можем воспользоваться бутстрапом - методом генерации выборок на основе выбора объектов с возвращением. Чтобы составить одну выборку, будем $N$ раз выбирать индекс объекта $i \\sim \\text{Uniform}(1 \\dots N)$ и добавлять $i$-ю пару (объект, целевая переменная) в выборку. В результате в каждой выборке могут появиться повторяющиеся объекты, а какие-то объекты могут вовсе не войти в некоторые выборки.\n",
        "\n",
        "#### Итоговый алгоритм оценки смещения и разброса алгоритма $a$\n",
        "1. Сгенерировать $s$ выборок $X_j$ методом бутстрапа.\n",
        "1. На каждой выборке $X_j$ обучить алгоритм $a_j$.\n",
        "1. Для каждой выборки $X_j$ определить множество объектов $T_j$, не вошедших в нее (out-of-bag). Вычислить предсказания алгоритма $a_j$ на объектах $T_j$. \n",
        "\n",
        "Поскольку у нас есть только один ответ для каждого объекта, мы будем считать шум равным 0, а $\\mathbb{E}[y|x]$ равным имеющемуся правильному ответу для объекта $x$. \n",
        "\n",
        "Итоговые оценки:\n",
        "* Смещение: для одного объекта - квадрат разности среднего предсказания и правильного ответа. Среднее предсказание берется только по тем алгоритмам $a_j$, для которых этот объект входил в out-of-bag выборку $T_j$. Для получения общего смещения выполнить усреденение смещений по объектам.\n",
        "* Разброс: для одного объекта - выборочная дисперсия предсказаний алгоритмов $a_j$, для которых этот объект входил в out-of-bag выборку $T_j$. Для получения общего разброса выполнить усреденение разбросов по объектам.\n",
        "* Ошибка $L$: усреднить квадраты разностей предсказания и правильного ответа по всем выполненным предсказаниям для всех объектов.\n",
        "\n",
        "В результате должно получиться, что ошибка приблизительно равна сумме смещения и разброса!\n",
        "\n",
        "Алгоритм также вкратце описан по [ссылке](https://web.engr.oregonstate.edu/~tgd/classes/534/slides/part9.pdf) (слайды 19-21).\n",
        "\n",
        "__1. (3 балла)__\n",
        "\n",
        "Реализуйте описанный алгоритм. Обратите внимание, что если объект не вошел ни в одну из out-of-bag выборок, учитывать его в вычислении итоговых величин не нужно. Как обычно, разрешается использовать только один цикл - по выборкам (от 0 до num_runs-1)."
      ]
    },
    {
      "cell_type": "code",
      "metadata": {
        "collapsed": true,
        "id": "IjXHzIjsu0fN"
      },
      "source": [
        "def compute_biase_variance(regressor, X, y, num_runs=1000):\n",
        "    \"\"\"\n",
        "    :param regressor: sklearn estimator with fit(...) and predict(...) method\n",
        "    :param X: numpy-array representing training set ob objects, shape [n_obj, n_feat]\n",
        "    :param y: numpy-array representing target for training objects, shape [n_obj]\n",
        "    :param num_runs: int, number of samples (s in the description of the algorithm)\n",
        "    \n",
        "    :returns: bias (float), variance (float), error (float) \n",
        "    each value is computed using bootstrap\n",
        "    \"\"\"\n",
        "    all_preds = {index: [] for index in np.arange(len(X))}\n",
        "    for _ in range(num_runs):\n",
        "        in_bag_indices = np.random.choice(np.arange(len(X)), size=len(X))\n",
        "        out_of_bag_indices = [index for index in np.arange(len(X)) if index not in in_bag_indices]\n",
        "        preds = regressor.fit(X[in_bag_indices], y[in_bag_indices]).predict(X[out_of_bag_indices])\n",
        "        list(map(lambda index: all_preds[out_of_bag_indices[index]].append(preds[index]), np.arange(len(out_of_bag_indices))))\n",
        "\n",
        "    mean_preds = np.array([np.mean(i[1]) for i in all_preds.items() if i[1]])\n",
        "    biases = (y[[true for true in all_preds.keys() if all_preds[true]]] - mean_preds) ** 2\n",
        "    bias = biases.sum() / len(biases)\n",
        "\n",
        "    variances = np.array([np.var(i[1]) for i in all_preds.items() if i[1]])\n",
        "    variance = variances.sum() / variances.size\n",
        "\n",
        "    errors = np.array([((y[p] - m) ** 2).sum() / len(m) for p, m in all_preds.items() if m]) \n",
        "    error = errors.sum() / errors.size\n",
        "\n",
        "    return bias, variance, error"
      ],
      "execution_count": 6,
      "outputs": []
    },
    {
      "cell_type": "markdown",
      "metadata": {
        "id": "6sh_6g-vu0fQ"
      },
      "source": [
        "__2. (0 баллов)__\n",
        "\n",
        "Оцените смещение, разброс и ошибку для трех алгоритмов с гиперпараметрами по умолчанию: линейная регрессия, решающее дерево, случайный лес."
      ]
    },
    {
      "cell_type": "code",
      "metadata": {
        "collapsed": true,
        "id": "17osNoYLu0fR",
        "colab": {
          "base_uri": "https://localhost:8080/"
        },
        "outputId": "6bb61af9-f161-4470-c452-36d8ac7fe81e"
      },
      "source": [
        "from sklearn.linear_model import LinearRegression\n",
        "\n",
        "bias, variance, error = compute_biase_variance(LinearRegression(), X, y)\n",
        "print('For linear regression:')\n",
        "print('   bias is', bias)\n",
        "print('   variance is', variance)\n",
        "print('   error is', error)"
      ],
      "execution_count": 95,
      "outputs": [
        {
          "output_type": "stream",
          "name": "stdout",
          "text": [
            "For linear regression:\n",
            "   bias is 23.7191701184678\n",
            "   variance is 0.9291178626000464\n",
            "   error is 24.64828798106785\n"
          ]
        }
      ]
    },
    {
      "cell_type": "code",
      "metadata": {
        "colab": {
          "base_uri": "https://localhost:8080/"
        },
        "id": "S0L5Li6_g4V6",
        "outputId": "07dfe94f-d21f-4f1b-a302-4edd7556b9b2"
      },
      "source": [
        "from sklearn.tree import DecisionTreeRegressor\n",
        "\n",
        "bias, variance, error = compute_biase_variance(DecisionTreeRegressor(), X, y)\n",
        "print('For linear regression:')\n",
        "print('   bias is', bias)\n",
        "print('   variance is', variance)\n",
        "print('   error is', error)"
      ],
      "execution_count": 97,
      "outputs": [
        {
          "output_type": "stream",
          "name": "stdout",
          "text": [
            "For linear regression:\n",
            "   bias is 10.222947500301059\n",
            "   variance is 12.812676480102464\n",
            "   error is 23.035623980403525\n"
          ]
        }
      ]
    },
    {
      "cell_type": "markdown",
      "metadata": {
        "id": "DBCVSx3RwS-3"
      },
      "source": [
        "**тут очепяточка!!! decision tree конечно а не linear regression, она была выше**"
      ]
    },
    {
      "cell_type": "code",
      "metadata": {
        "colab": {
          "base_uri": "https://localhost:8080/"
        },
        "id": "BuyKzAc8gekn",
        "outputId": "917b99a8-83a6-41ba-aee0-77c4c24bf413"
      },
      "source": [
        "from sklearn.ensemble import RandomForestRegressor\n",
        "\n",
        "bias, variance, error = compute_biase_variance(RandomForestRegressor(), X, y)\n",
        "print('For random forest:')\n",
        "print('   bias is', bias)\n",
        "print('   variance is', variance)\n",
        "print('   error is', error)"
      ],
      "execution_count": 96,
      "outputs": [
        {
          "output_type": "stream",
          "name": "stdout",
          "text": [
            "For random forest:\n",
            "   bias is 10.694280313138778\n",
            "   variance is 2.2503930447715486\n",
            "   error is 12.944673357910329\n"
          ]
        }
      ]
    },
    {
      "cell_type": "markdown",
      "metadata": {
        "id": "SmG9t-K9u0fS"
      },
      "source": [
        "__3. (1 балл)__\n",
        "Проанализируйте полученный результат. Согласуются ли полученные результаты с теми, что мы обсуждали на занятиях (с комментарием)?\n",
        "\n",
        "__Your answer here:__\n",
        "\n",
        "Да! \n",
        "\n",
        "На занятиях мы обсуждали, что композиция деревьев, обученная беггингом, имеет то же смещение, что и базовые модели, и уменьшает разброс, умноженный на ковариацию базовых моделей, в столько раз, сколько у нас моделей\n",
        "\n",
        "Случайный лес устроен так, что минимизирует схожесть базовых моделей за счет выбора лучшего признака из их рандомного подмножества в каждой вершине. Видимо, не настолько сильно снижает, чтобы разброс снизился прямо в сто раз (а столько эстиматоров у нас по умолчанию), но смещение действительно осталось примерно то же, а вот разброс стал меньше аж в шесть раз! \n",
        "\n",
        "Что касается линейной модели, то логично предположить, что связь между ценой и всеми факторами, на нее влияющими, хоть и имеет линейную природу, но все-таки не в полной мере ею является. Поэтому смещение линейной модели сильно больше, чем то у деревьев: достаточно глубокие деревья (а именно такие строятся с дефолтными гиперпараметрами) могут очень хорошо аппроксимировать практически любую связь признакового описания и таргета. При этом чем глубже дерево, тем сильнее оно зависит от конкретной обучающей выборки, именно поэтому разброс решающего дерева намного больше разброса линейной модели, которая в силу своей простоты каждый раз строится примерно одинаково. "
      ]
    },
    {
      "cell_type": "markdown",
      "metadata": {
        "id": "_PXv1_mUu0fT"
      },
      "source": [
        "__4. (1 балл)__\n",
        "Постройте бэггинг над всеми тремя моделями (линейная регрессия, решающее дерево, случайный лес). Вспомните обсуждение с лекции о том, во сколько раз в теории бэггинг уменьшает разброс базового алгоритма. Выполняется ли это в ваших экспериментах? Если нет, поясните, почему."
      ]
    },
    {
      "cell_type": "code",
      "metadata": {
        "colab": {
          "base_uri": "https://localhost:8080/"
        },
        "id": "wchyHE-jphwR",
        "outputId": "eee5d4e6-6ef8-4e75-808d-9a87adcb365c"
      },
      "source": [
        "linear_bag = BaggingRegressor(base_estimator=LinearRegression())\n",
        "linear_bias, linear_variance, linear_error = compute_biase_variance(linear_bag, X, y)\n",
        "print('For bag of linear models:')\n",
        "print('   bias is', linear_bias)\n",
        "print('   variance is', linear_variance)\n",
        "print('   error is', linear_error)"
      ],
      "execution_count": 108,
      "outputs": [
        {
          "output_type": "stream",
          "name": "stdout",
          "text": [
            "For bag of linear models:\n",
            "   bias is 23.69069147467732\n",
            "   variance is 1.0095049847760222\n",
            "   error is 24.700196459453345\n"
          ]
        }
      ]
    },
    {
      "cell_type": "code",
      "metadata": {
        "colab": {
          "base_uri": "https://localhost:8080/"
        },
        "id": "nkAmN1e9okVP",
        "outputId": "7c30c223-e04c-4c25-e401-45f748e21f25"
      },
      "source": [
        "tree_bag = BaggingRegressor(base_estimator=DecisionTreeRegressor())\n",
        "tree_bias, tree_variance, tree_error = compute_biase_variance(tree_bag, X, y)\n",
        "print('For bag of tree models:')\n",
        "print('   bias is', tree_bias)\n",
        "print('   variance is', tree_variance)\n",
        "print('   error is', tree_error)"
      ],
      "execution_count": 106,
      "outputs": [
        {
          "output_type": "stream",
          "name": "stdout",
          "text": [
            "For bag of tree models:\n",
            "   bias is 10.60872018260154\n",
            "   variance is 3.3831876326469743\n",
            "   error is 13.991907815248513\n"
          ]
        }
      ]
    },
    {
      "cell_type": "code",
      "metadata": {
        "colab": {
          "base_uri": "https://localhost:8080/"
        },
        "id": "ZbOMHqKEqAqN",
        "outputId": "2091e14b-1a25-4abe-f151-455083f7fa1f"
      },
      "source": [
        "rf_bag = BaggingRegressor(base_estimator=RandomForestRegressor())\n",
        "rf_bias, rf_variance, rf_error = compute_biase_variance(rf_bag, X, y)\n",
        "print('For bag of random forest models:')\n",
        "print('   bias is', rf_bias)\n",
        "print('   variance is', rf_variance)\n",
        "print('   error is', rf_error)"
      ],
      "execution_count": 105,
      "outputs": [
        {
          "output_type": "stream",
          "name": "stdout",
          "text": [
            "For bag of random forest models:\n",
            "   bias is 11.619385651299794\n",
            "   variance is 1.3647491004744763\n",
            "   error is 12.98413475177427\n"
          ]
        }
      ]
    },
    {
      "cell_type": "code",
      "metadata": {
        "colab": {
          "base_uri": "https://localhost:8080/",
          "height": 237
        },
        "id": "FkKtoluHB9LJ",
        "outputId": "6c0ae3c6-928e-4ea9-835a-1cd94951c215"
      },
      "source": [
        "# простите за хардкодинг просто делала в разные сессии а заново ждать миллион лет не могла себе позволить\n",
        "\n",
        "to_dataframe = {}\n",
        "to_dataframe['bias'] = list(map(float, '23.719 10.22 10.694 23.690 10.6 11.619'.split()))\n",
        "to_dataframe['variance'] = list(map(float, '0.929 12.81 2.25 1.0 3.38 1.364'.split()))\n",
        "to_dataframe['error'] = list(map(float, '24.648 23.035 12.944 24.7 13.99 12.9841'.split()))\n",
        "\n",
        "to_dataframe['estimator'] = ['linear', 'tree', 'random_forest'] * 2\n",
        "to_dataframe['ensemble'] = ['base'] * 3 + ['ensemble'] * 3\n",
        "\n",
        "pd.DataFrame(to_dataframe)"
      ],
      "execution_count": 21,
      "outputs": [
        {
          "output_type": "execute_result",
          "data": {
            "text/html": [
              "<div>\n",
              "<style scoped>\n",
              "    .dataframe tbody tr th:only-of-type {\n",
              "        vertical-align: middle;\n",
              "    }\n",
              "\n",
              "    .dataframe tbody tr th {\n",
              "        vertical-align: top;\n",
              "    }\n",
              "\n",
              "    .dataframe thead th {\n",
              "        text-align: right;\n",
              "    }\n",
              "</style>\n",
              "<table border=\"1\" class=\"dataframe\">\n",
              "  <thead>\n",
              "    <tr style=\"text-align: right;\">\n",
              "      <th></th>\n",
              "      <th>bias</th>\n",
              "      <th>variance</th>\n",
              "      <th>error</th>\n",
              "      <th>estimator</th>\n",
              "      <th>ensemble</th>\n",
              "    </tr>\n",
              "  </thead>\n",
              "  <tbody>\n",
              "    <tr>\n",
              "      <th>0</th>\n",
              "      <td>23.719</td>\n",
              "      <td>0.929</td>\n",
              "      <td>24.6480</td>\n",
              "      <td>linear</td>\n",
              "      <td>base</td>\n",
              "    </tr>\n",
              "    <tr>\n",
              "      <th>1</th>\n",
              "      <td>10.220</td>\n",
              "      <td>12.810</td>\n",
              "      <td>23.0350</td>\n",
              "      <td>tree</td>\n",
              "      <td>base</td>\n",
              "    </tr>\n",
              "    <tr>\n",
              "      <th>2</th>\n",
              "      <td>10.694</td>\n",
              "      <td>2.250</td>\n",
              "      <td>12.9440</td>\n",
              "      <td>random_forest</td>\n",
              "      <td>base</td>\n",
              "    </tr>\n",
              "    <tr>\n",
              "      <th>3</th>\n",
              "      <td>23.690</td>\n",
              "      <td>1.000</td>\n",
              "      <td>24.7000</td>\n",
              "      <td>linear</td>\n",
              "      <td>ensemble</td>\n",
              "    </tr>\n",
              "    <tr>\n",
              "      <th>4</th>\n",
              "      <td>10.600</td>\n",
              "      <td>3.380</td>\n",
              "      <td>13.9900</td>\n",
              "      <td>tree</td>\n",
              "      <td>ensemble</td>\n",
              "    </tr>\n",
              "    <tr>\n",
              "      <th>5</th>\n",
              "      <td>11.619</td>\n",
              "      <td>1.364</td>\n",
              "      <td>12.9841</td>\n",
              "      <td>random_forest</td>\n",
              "      <td>ensemble</td>\n",
              "    </tr>\n",
              "  </tbody>\n",
              "</table>\n",
              "</div>"
            ],
            "text/plain": [
              "     bias  variance    error      estimator  ensemble\n",
              "0  23.719     0.929  24.6480         linear      base\n",
              "1  10.220    12.810  23.0350           tree      base\n",
              "2  10.694     2.250  12.9440  random_forest      base\n",
              "3  23.690     1.000  24.7000         linear  ensemble\n",
              "4  10.600     3.380  13.9900           tree  ensemble\n",
              "5  11.619     1.364  12.9841  random_forest  ensemble"
            ]
          },
          "metadata": {},
          "execution_count": 21
        }
      ]
    },
    {
      "cell_type": "code",
      "metadata": {
        "colab": {
          "base_uri": "https://localhost:8080/",
          "height": 371
        },
        "id": "iuFpqKWe2MDt",
        "outputId": "8d8a0a16-32a3-4b84-9264-fb14bc4bba42"
      },
      "source": [
        "import seaborn as sns\n",
        "from matplotlib import pyplot as plt\n",
        "\n",
        "\n",
        "fig, axes = plt.subplots(1, 3, figsize=(15, 5), sharey=False)\n",
        "fig.suptitle('Error constituents for base and emsemble models')\n",
        "\n",
        "sns.barplot(data=pd.DataFrame(to_dataframe), y='bias', x='estimator', hue='ensemble', ax=axes[0])\n",
        "axes[0].set_title('Bias')\n",
        "\n",
        "sns.barplot(data=pd.DataFrame(to_dataframe), y='variance', x='estimator', hue='ensemble', ax=axes[1])\n",
        "axes[1].set_title('Variance')\n",
        "\n",
        "sns.barplot(data=pd.DataFrame(to_dataframe), y='error', x='estimator', hue='ensemble', ax=axes[2])\n",
        "axes[2].set_title('Error')\n",
        "\n",
        "plt.show()"
      ],
      "execution_count": 27,
      "outputs": [
        {
          "output_type": "display_data",
          "data": {
            "image/png": "[encoded data removed]",
            "text/plain": [
              "<Figure size 1080x360 with 3 Axes>"
            ]
          },
          "metadata": {
            "needs_background": "light"
          }
        }
      ]
    },
    {
      "cell_type": "markdown",
      "metadata": {
        "id": "Ln8TwPnuwzSK"
      },
      "source": [
        "\n",
        "\n",
        "__Your answer here:__\n",
        "\n",
        "Исходя из теории, композиция моделей, при условии низкого значения их ковариации, должна снижать разброс в столько раз, сколько у нас моделей. \n",
        "\n",
        "Что касается линейных моделей, то в их случае снижения разброса не произошло. Это можно связать со спецификой линейной модели: в силу своей простоты она изначально имеет довольно низкий разброс, то есть несильно зависит от небольших изменений в данных. Поэтому, скорее всего, базовые модели похожи друг на друга, и значть имеют выраженную ковариацию, что и привело даже к некоторому увеличению разброса. \n",
        "\n",
        "Сильнее всего разброс упал для деревьев: действительно, при дефолтных параметрах деревья получаются достаточно глубокими, а значит несмещенными и с высоким разбросом. Благодаря сильной зависимости от малейших изменений в обучающей выборки, деревья скорее всего вышли не очень похожими, ошибались в разных местах, что и позволило уменьшить их разброс значительно. \n",
        "\n",
        "Случайный лес уже является беггинговой композицией над деревьями, в которой и так снижен разброс путем добавления случайности в построение деревьев. Сниженный разброс предполагает, что при изменении обучающей выборки модель будет меняться не слишком сильно. А значит, их ковариация будет иметь отличное от нуля значение. Таким образом при объединении этих моделей в композицию разброс снижается не так сильно, как мог бы в теории, однако все еще сильнее, чем в случае с линейной моделью, ибо разброс ее базовых моделей еще ниже.\n",
        "\n",
        "Иными словами, снижение разброса при объединении моделей в композицию в некоторой степени пропорционально разбросу самих базовых моделей: чем он больше, чем сильнее будет эффект от объединения.\n"
      ]
    },
    {
      "cell_type": "markdown",
      "metadata": {
        "id": "VEM1iTZlu0fT"
      },
      "source": [
        "### Визуализация предсказаний базовых алгоритмов бэггинга\n",
        "\n",
        "В материалах лекций можно найти изображение, похожее на мишень - визуализация алгоритмов с разным смещением и разным разбросом. В центре \"мишени\" - правильный ответ, а \"попадания\" - предсказания алгоритмов, обученных по разным выборкам. Построим похожее изображение на наших данных для трех алгоритмов. Наши \"мишени\" будут одномерными, потому что мы решаем задачу одномерной регрессии.\n",
        "\n",
        "__5. (2 балла)__\n",
        "\n",
        "Реализуйте функцию plot_predictions. Она должна выполнять следующие действия:\n",
        "1. Случайно выбрать num_test_objects пар объект-целевая переменная из выборки X, y. Получится две выборки: маленькая X_test, y_test (выбранные тестовые объекты) и X_train, y_train (остальные объекты).\n",
        "1. Сгенерировать num_runs выборок методом бутстарапа из X_train, y_train. На каждой выборке обучить алгоритм regressor и сделать предсказания для X_test.\n",
        "1. Нарисовать scatter-график. По оси абсцисс - объекты тестовой выборки (номера от 0 до num_test_objects-1), по оси ординат - предсказания. В итоге получится num_test_objects столбиков с точками. Для каждого тестового объекта надо отметить одним цветом все предсказания для него, а также черным цветом отметить правильный ответ.\n",
        "1. Подпишите оси и название графика (аргумент title)."
      ]
    },
    {
      "cell_type": "code",
      "metadata": {
        "collapsed": true,
        "id": "4a6CcDX6u0fU"
      },
      "source": [
        "def plot_predictions(regressor, X, y, num_runs=100, num_test_objects=10, title=\"\", ax=None):\n",
        "    \"\"\"\n",
        "    plot graphics described above\n",
        "    \"\"\"\n",
        "    X_train, X_test, y_train, y_test = train_test_split(X, y, test_size=num_test_objects)\n",
        "    all_preds = {target: [] for target in y_test}\n",
        "    for _ in range(num_runs):\n",
        "        in_bag_indices = np.random.choice(np.arange(len(X_train)), size=len(X_train))\n",
        "        preds = regressor.fit(X_train[in_bag_indices], y_train[in_bag_indices]).predict(X_test)\n",
        "        list(map(lambda index, target: all_preds[target].append(preds[index]), np.arange(len(y_test)), y_test))\n",
        "    df = pd.DataFrame({'target': np.array([[target] * len(predictions) for target, predictions in all_preds.items()]).flatten(),\n",
        "                    'prediction': np.array(list(all_preds.values())).flatten()})\n",
        "    \n",
        "    # plt.figure(figsize=(8, 6), dpi=80)\n",
        "    if not ax:\n",
        "        ax = sns.scatterplot(data=df, y='prediction', x='target', hue='target', palette='Set2', legend=False)\n",
        "        plt.title(title)\n",
        "    else:\n",
        "        sns.scatterplot(data=df, y='prediction', x='target', hue='target', palette='Set2', legend=False, ax=ax)\n",
        "        ax.set_title(title)\n",
        "    sns.scatterplot(x=y_test, y=y_test, color='black', ax=ax)\n",
        "    return ax"
      ],
      "execution_count": 119,
      "outputs": []
    },
    {
      "cell_type": "markdown",
      "metadata": {
        "id": "lneErWY6u0fV"
      },
      "source": [
        "__6. (0 баллов)__\n",
        "\n",
        "Нарисуйте графики для линейной регрессии, решающего дерева и случайного леса. Нарисуйте три графика в строчку (это можно сделать с помощью plt.subplot) с одинаковой осью ординат (это важно для понимания масштаба разброса у разных алгоритмов):"
      ]
    },
    {
      "cell_type": "code",
      "metadata": {
        "colab": {
          "base_uri": "https://localhost:8080/",
          "height": 370
        },
        "id": "0bae3S4J-fdy",
        "outputId": "7178c7c2-5335-420f-aa4f-e81dcf17f473"
      },
      "source": [
        "%matplotlib inline\n",
        "\n",
        "from sklearn.linear_model import LinearRegression\n",
        "from sklearn.tree import DecisionTreeRegressor\n",
        "from sklearn.ensemble import RandomForestRegressor\n",
        "\n",
        "fig, axes = plt.subplots(1, 3, figsize=(15, 5), sharey=True)\n",
        "fig.suptitle('Comparison of errors')\n",
        "\n",
        "plot_predictions(LinearRegression(), X, y, title='linear regression', ax=axes[0])\n",
        "plot_predictions(DecisionTreeRegressor(), X, y, title='decision tree', ax=axes[1])\n",
        "plot_predictions(RandomForestRegressor(), X, y, title='random forest', ax=axes[2])\n",
        "\n",
        "plt.show()"
      ],
      "execution_count": 123,
      "outputs": [
        {
          "output_type": "display_data",
          "data": {
            "image/png": "[encoded data removed]",
            "text/plain": [
              "<Figure size 1080x360 with 3 Axes>"
            ]
          },
          "metadata": {
            "needs_background": "light"
          }
        }
      ]
    },
    {
      "cell_type": "markdown",
      "metadata": {
        "id": "t_ynm4aju0fV"
      },
      "source": [
        "__7. (1 балл)__\n",
        "\n",
        "Для каждого графика прокомментируйте, как он характеризует смещение и разброс соответствующего алгоритма. \n",
        "\n",
        "__Your answer here:__\n",
        "\n",
        "\n",
        "Линейная модель довольно часто не угадывает правильное значение: ни одна из обученных моделей не попала в примерно половину представленных таргетов. Это говорит о высоком смещении. Кроме этого, бросается в глаза сконцентрированность предсказаний немного по-разному обученных линейных моделей: они все находятся рядом, их границы довольно четкие и без отклонений от основной массы. Из этого можно заключить, что у линейной модели не очень высокий разброс, так как изменения в обучающей выборке не приводят к драматичному изменению предсказания. \n",
        "\n",
        "Решающее дерево зацепило все из представленных таргетов: каждый из тестовых у был угадан хотя бы одним из решающих деревьев. Кроме этого, большая часть правильных ответов находится ближе к центру кластеров предложенных деревьями ответов. Это говорит о низком смещении. С другой стороны, в случае с деревьями выбросов среди данных ответов намного больше, чем было у линейных моделей: кластеры менее четкие и в среднем шире. Это говорит о большем разбросе.\n",
        "\n",
        "Что касается случайного леса, то здесь неотгаданными остались дв-три таргета из десяти: смещение ниже, чем у линейной модели, но выше, чем у дерева. Что касается самих кластеров, то они достаточно широкие, однако однородные -- выбросов практически нет, что говорит о том, что разброс меньше, чем у одного дерева, но все-таки значительно больше, чем у линейной модели.\n",
        "\n",
        "Этот анализ частично опровергает теорию: предполагается, что композиция деревьев должна иметь сопоставимое с базовой моделью смещение. Вероятно, 10 таргетов мало для того, чтобы это было очевидным. \n"
      ]
    },
    {
      "cell_type": "markdown",
      "metadata": {
        "id": "xhghXOXMu0fW"
      },
      "source": [
        "### Изменение bias и variance при изменении гиперпараметров"
      ]
    },
    {
      "cell_type": "markdown",
      "metadata": {
        "id": "ESSFjy1Tu0fW"
      },
      "source": [
        "__8. (0 баллов)__\n",
        "\n",
        "Постройте графики зависимости смещения и разброса от гиперпараметров решающего дерева max_depth (от 1 до 10) и max_features (от 1 до X.shape[1]):"
      ]
    },
    {
      "cell_type": "code",
      "metadata": {
        "collapsed": true,
        "id": "ZB4c1Kcpu0fY",
        "colab": {
          "base_uri": "https://localhost:8080/",
          "height": 406
        },
        "outputId": "c4a95567-16b8-43ef-bd86-26f69151d746"
      },
      "source": [
        "from tqdm import tqdm\n",
        "\n",
        "fig, axes = plt.subplots(1, 2, figsize=(15, 5), sharey=True)\n",
        "fig.suptitle('Comparison of bias and variance')\n",
        "\n",
        "max_depth_grid = np.arange(10) + 1\n",
        "biases = []\n",
        "variances = []\n",
        "for max_depth in tqdm(max_depth_grid):\n",
        "    bias, variance, _ = compute_biase_variance(DecisionTreeRegressor(max_depth=max_depth), X, y)\n",
        "    biases.append(bias)\n",
        "    variances.append(variance)\n",
        "\n",
        "sns.lineplot(x=max_depth_grid, y=biases, ax=axes[0], color='pink', label='bias')\n",
        "sns.lineplot(x=max_depth_grid, y=variances, ax=axes[0], color='grey', label='variance')\n",
        "axes[0].set_title('bias and variance depending on max_depth')\n",
        "axes[0].set(xlabel='max_depth', ylabel='error constituent')\n",
        "\n",
        "max_features_grid = np.arange(X.shape[1]) + 1\n",
        "biases = []\n",
        "variances = []\n",
        "for max_features in tqdm(max_features_grid):\n",
        "    bias, variance, _ = compute_biase_variance(DecisionTreeRegressor(max_features=max_features), X, y)\n",
        "    biases.append(bias)\n",
        "    variances.append(variance)\n",
        "\n",
        "sns.lineplot(x=max_features_grid, y=biases, ax=axes[1], color='pink', label='bias')\n",
        "sns.lineplot(x=max_features_grid, y=variances, ax=axes[1], color='grey', label='variance')\n",
        "axes[1].set_title('bias and variance depending on max_features')\n",
        "axes[1].set(xlabel='max_features', ylabel='error constituent')\n",
        "\n",
        "plt.show()"
      ],
      "execution_count": 140,
      "outputs": [
        {
          "output_type": "stream",
          "name": "stderr",
          "text": [
            "100%|██████████| 10/10 [00:48<00:00,  4.82s/it]\n",
            "100%|██████████| 13/13 [01:05<00:00,  5.02s/it]\n"
          ]
        },
        {
          "output_type": "display_data",
          "data": {
            "image/png": "[encoded data removed]",
            "text/plain": [
              "<Figure size 1080x360 with 2 Axes>"
            ]
          },
          "metadata": {
            "needs_background": "light"
          }
        }
      ]
    },
    {
      "cell_type": "markdown",
      "metadata": {
        "id": "JNDNcE4Wu0fZ"
      },
      "source": [
        "__9. (0 баллов)__\n",
        "\n",
        "Постройте графики зависимости смещения и разброса от n_estimators (по сетке 2**np.arange(1, 10)) для случайного леса и градиентного бустинга:"
      ]
    },
    {
      "cell_type": "code",
      "metadata": {
        "collapsed": true,
        "id": "DxC3iMjfu0fb",
        "colab": {
          "base_uri": "https://localhost:8080/"
        },
        "outputId": "b6158884-4d74-48fc-84f2-36b1e6ac9465"
      },
      "source": [
        "n_estimators_grid = 2**np.arange(1, 10)\n",
        "\n",
        "results = {'RandomForestRegressor': {}, 'GradientBoosting': {}}\n",
        "\n",
        "for n_estimators in tqdm(n_estimators_grid):\n",
        "    bias, variance, _ = compute_biase_variance(RandomForestRegressor(n_estimators=n_estimators), X, y)\n",
        "    results['RandomForestRegressor'][n_estimators] = {'bias': bias, 'variance': variance}"
      ],
      "execution_count": 144,
      "outputs": [
        {
          "output_type": "stream",
          "name": "stderr",
          "text": [
            "100%|██████████| 9/9 [59:26<00:00, 396.27s/it]\n"
          ]
        }
      ]
    },
    {
      "cell_type": "code",
      "metadata": {
        "colab": {
          "base_uri": "https://localhost:8080/"
        },
        "id": "Ir10URHjHPpF",
        "outputId": "b5143afd-3ca4-42f0-ec97-c47eae8124de"
      },
      "source": [
        "from sklearn.ensemble import GradientBoostingRegressor\n",
        "\n",
        "for n_estimators in tqdm(n_estimators_grid):\n",
        "    bias, variance, _ = compute_biase_variance(GradientBoostingRegressor(n_estimators=n_estimators), X, y)\n",
        "    results['GradientBoosting'][n_estimators] = {'bias': bias, 'variance': variance}"
      ],
      "execution_count": 147,
      "outputs": [
        {
          "output_type": "stream",
          "name": "stderr",
          "text": [
            "100%|██████████| 9/9 [22:22<00:00, 149.21s/it]\n"
          ]
        }
      ]
    },
    {
      "cell_type": "code",
      "metadata": {
        "colab": {
          "base_uri": "https://localhost:8080/"
        },
        "id": "aci5PxErHy4t",
        "outputId": "41eb8f03-b920-4d74-b99f-f3b3b3206782"
      },
      "source": [
        "results"
      ],
      "execution_count": 148,
      "outputs": [
        {
          "output_type": "execute_result",
          "data": {
            "text/plain": [
              "{'GradientBoosting': {2: {'bias': 62.60686227030949,\n",
              "   'variance': 0.38070808762692915},\n",
              "  4: {'bias': 47.41157384716215, 'variance': 0.6553420646618433},\n",
              "  8: {'bias': 29.590491262057938, 'variance': 1.0346686401425598},\n",
              "  16: {'bias': 16.425032198068294, 'variance': 1.4070389862773893},\n",
              "  32: {'bias': 11.110653294204887, 'variance': 1.6791752185480269},\n",
              "  64: {'bias': 9.535383376984981, 'variance': 1.9087176335888971},\n",
              "  128: {'bias': 8.98274488190421, 'variance': 2.1152674056324177},\n",
              "  256: {'bias': 8.78498539055858, 'variance': 2.290924241276512},\n",
              "  512: {'bias': 8.590483048187139, 'variance': 2.4378112009890764}},\n",
              " 'RandomForestRegressor': {2: {'bias': 10.629696047347084,\n",
              "   'variance': 8.564882157563506},\n",
              "  4: {'bias': 10.530381165130038, 'variance': 5.306001904636879},\n",
              "  8: {'bias': 10.64266733168717, 'variance': 3.6682036133699043},\n",
              "  16: {'bias': 10.697340256524535, 'variance': 2.8989886152334714},\n",
              "  32: {'bias': 10.57811571059119, 'variance': 2.5122617586651645},\n",
              "  64: {'bias': 10.688730076607776, 'variance': 2.2885937356803017},\n",
              "  128: {'bias': 10.540109082900404, 'variance': 2.225986045145104},\n",
              "  256: {'bias': 10.520910177757669, 'variance': 2.1507826012491047},\n",
              "  512: {'bias': 10.798126983087483, 'variance': 2.1816230127213467}}}"
            ]
          },
          "metadata": {},
          "execution_count": 148
        }
      ]
    },
    {
      "cell_type": "code",
      "metadata": {
        "colab": {
          "base_uri": "https://localhost:8080/",
          "height": 370
        },
        "id": "sgTURtFXnJut",
        "outputId": "5f3a586f-f8d9-47a8-99c4-2e0740a100b2"
      },
      "source": [
        "fig, axes = plt.subplots(1, 2, figsize=(15, 5), sharey=True)\n",
        "fig.suptitle('Bias and variance depeding on n_estimators')\n",
        "\n",
        "sns.lineplot(y=[i['bias'] for i in results['RandomForestRegressor'].values()],\n",
        "             x=n_estimators_grid, \n",
        "             label='bias',\n",
        "             ax=axes[0])\n",
        "\n",
        "sns.lineplot(y=[i['variance'] for i in results['RandomForestRegressor'].values()],\n",
        "             x=n_estimators_grid, \n",
        "             label='variance',\n",
        "             ax=axes[0])\n",
        "\n",
        "axes[0].set_title('Random Forest')\n",
        "axes[0].set(ylabel='bias and variance', xlabel='num of estimators')\n",
        "\n",
        "sns.lineplot(y=[i['bias'] for i in results['GradientBoosting'].values()],\n",
        "             x=n_estimators_grid, \n",
        "             label='bias',\n",
        "             ax=axes[1])\n",
        "\n",
        "sns.lineplot(y=[i['variance'] for i in results['GradientBoosting'].values()],\n",
        "             x=n_estimators_grid, \n",
        "             label='variance',\n",
        "             ax=axes[1])\n",
        "axes[1].set_title('Gradient Boosting')\n",
        "axes[1].set(ylabel='bias and variance', xlabel='num of estimators')\n",
        "\n",
        "\n",
        "plt.show()"
      ],
      "execution_count": 161,
      "outputs": [
        {
          "output_type": "display_data",
          "data": {
            "image/png": "[encoded data removed]",
            "text/plain": [
              "<Figure size 1080x360 with 2 Axes>"
            ]
          },
          "metadata": {
            "needs_background": "light"
          }
        }
      ]
    },
    {
      "cell_type": "markdown",
      "metadata": {
        "id": "MVji9tvcu0fc"
      },
      "source": [
        "__10. (2 балла)__\n",
        "\n",
        "Прокомментируйте графики (всего 4 графика): почему они имеют такой вид.\n",
        "\n",
        "__Your answer here:__"
      ]
    },
    {
      "cell_type": "markdown",
      "metadata": {
        "id": "MDpxuoFd31SA"
      },
      "source": [
        "**max_depth vs bias**\n",
        "\n",
        "Чем дерево глубже, тем оно несмещеннее: большее количество предикатов позволяет более детально расчертить признаковое пространство.  \n",
        "\n",
        "**max_depth vs variance**\n",
        "\n",
        "С другой стороны, большая глубина подразумевает еще и большую склонность к переобучению: появляется вероятность чрезмерного подгона под тестовую выборку. Деревья таким образом получаюся разными в зависимости от даже небольшого изменения в обучающей выборке -- у них сильный разброс. Он линейно зависит от глубины дерева. \n",
        "\n",
        "**max_features vs bias**\n",
        "\n",
        "Чем меньшее количество признаков мы разрешаем рассматривать в каждой вершине, тем сильнее будут отличаться деревья, поскольку они будут опираться на разные признаковые закономерности. При увеличении мощности подмножества рассматриваемых признаков эти подмножества в целом становятся более похожими, что обусловливает пропорционально меньший разброс деревьев в этом случае.\n",
        "\n",
        "**max_features vs variance**\n",
        "\n",
        "На смещенность этот параметр влияет меньше, поскольку при неограниченной глубине деревья все еще могут добиться довольно сильной аппроксимации реальной связи. Однако очень сильное уменьшение подмножества значительно увеличивает риск упустить важный признак, что приводит к большей смещенности."
      ]
    },
    {
      "cell_type": "markdown",
      "metadata": {
        "id": "JBbyMxwO9wf9"
      },
      "source": [
        "**random forest bias vs n_estimators**\n",
        "\n",
        "На занятиях было установлено, что смещение композиции деревьев примерно равно смещению базовой модели. Количество деревьев поэтому на данный параметр влияет слабо.\n",
        "\n",
        "**random forest variance vs n_estimators**\n",
        "\n",
        "А вот смещение такая композиция способна снизить очень сильно: благодаря рандомизации подмножества рассматриваемых в вершинах признаках базовые модели получаются разные, что позволяет резко снизить их общий разброс. \n",
        "\n",
        "Также стоит отметить, что случайный лес не переобучается с ростом количества базовых моделей: это связано с тем, что они обучаются параллельно, а значит независимо друг от друга. \n",
        "\n",
        "**gb bias vs n_estimators**\n",
        "\n",
        "В градиентном бустинге модели обучаются последовательно: каждая следующая при этом обучается на сдвиг -- отличие ответа композиции от таргета. Поэтому прирост количества моделей дает снижение их общего смещения, пока оно не упрется в целом максимально низкое для данной базовой модели. \n",
        "\n",
        "**gb variance vs n_estimators**\n",
        "\n",
        "В отличие от случайного леса, градиентный бустинг может переобучиться при слишком большом количестве базовых моделей: это связано с тем, что в силу последовательного обучения и добавления моделей разброс стабильно, хоть и не очень резко, растет, и он, в отличие от смещения, не упирается в какое-то значение. Это несильно видно в данном графике из-за несопоставимых изменений смещения и разброса, но в словаре ячейкой выше тенденцию легко обнаружить. "
      ]
    },
    {
      "cell_type": "markdown",
      "metadata": {
        "pycharm": {
          "name": "#%% md\n"
        },
        "id": "Y4g0_v3mu0fd"
      },
      "source": [
        "Вставьте картинку, описывающую ваш опыт выполнения этого ДЗ."
      ]
    },
    {
      "cell_type": "code",
      "metadata": {
        "pycharm": {
          "name": "#%%\n"
        },
        "id": "cJZQYUlJu0fd",
        "colab": {
          "base_uri": "https://localhost:8080/",
          "height": 288
        },
        "outputId": "7b979813-53f4-4d02-c069-92e469374339"
      },
      "source": [
        "from IPython.display import Image\n",
        "Image(url='https://media.giphy.com/media/uuocoePH1mkVy/giphy.gif')"
      ],
      "execution_count": 162,
      "outputs": [
        {
          "output_type": "execute_result",
          "data": {
            "text/html": [
              "<img src=\"https://media.giphy.com/media/uuocoePH1mkVy/giphy.gif\"/>"
            ],
            "text/plain": [
              "<IPython.core.display.Image object>"
            ]
          },
          "metadata": {},
          "execution_count": 162
        }
      ]
    }
  ]
}